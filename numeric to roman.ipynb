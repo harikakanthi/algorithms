{
 "cells": [
  {
   "cell_type": "code",
   "execution_count": 2,
   "metadata": {},
   "outputs": [
    {
     "name": "stdout",
     "output_type": "stream",
     "text": [
      "Enter the number:__1887\n",
      "Roman Numerical:_ MDCCCLXXXVII\n"
     ]
    }
   ],
   "source": [
    "a=input(\"Enter the number:__\")\n",
    "num_roman={1: 'I', 5: 'V', 10: 'X', 50: 'L', 100: 'C', 500: 'D', 1000: 'M'}\n",
    "b=[]\n",
    "for i in range(len(list(a))): \n",
    "    if int(a[i]+ str(0)*len(a[i+1:]))  in num_roman.keys():\n",
    "        b.append(num_roman[int(a[i]+ str(0)*len(a[i+1:]))])\n",
    "    else:\n",
    "        if \"9\" in a[i]:\n",
    "            new = str(int(a[i]+ str(0)*len(a[i+1:])))\n",
    "            b.append(num_roman[int(str(\"1\"+ (str(0)* ((len(new))-1))))]) \n",
    "            b.append(num_roman[int(str(\"1\"+ (str(0)* (len(new)))))])\n",
    "        elif \"4\" in a[i]:\n",
    "            new = str(int(a[i]+ str(0)*len(a[i+1:])))\n",
    "            b.append(num_roman[int(str(\"1\"+ (str(0)* (len(new)-1))))]) \n",
    "            b.append(num_roman[int(str(\"5\"+ (str(0)* (len(new)-1))))]) \n",
    "        else:\n",
    "            if int(a[i])>5:\n",
    "                new = str(int(a[i]+ str(0)*len(a[i+1:])))\n",
    "                b.append(num_roman[int(str(\"5\"+ (str(0)* (len(new)-1))))])\n",
    "                for j in range((int(a[i])-5)):\n",
    "                    b.append(num_roman[int(str(\"1\"+ (str(0)* (len(new)-1))))])\n",
    "            elif int(a[i])<5:\n",
    "                new = str(int(a[i]+ str(0)*len(a[i+1:])))\n",
    "            \n",
    "                for j in range(int(a[i])):\n",
    "                    b.append(num_roman[int(str(\"1\"+ (str(0)* (len(new)-1))))])\n",
    "                \n",
    "print(\"Roman Numerical:_\",\"\".join(b)) "
   ]
  }
 ],
 "metadata": {
  "kernelspec": {
   "display_name": "Python 3",
   "language": "python",
   "name": "python3"
  },
  "language_info": {
   "codemirror_mode": {
    "name": "ipython",
    "version": 3
   },
   "file_extension": ".py",
   "mimetype": "text/x-python",
   "name": "python",
   "nbconvert_exporter": "python",
   "pygments_lexer": "ipython3",
   "version": "3.7.6"
  }
 },
 "nbformat": 4,
 "nbformat_minor": 4
}
