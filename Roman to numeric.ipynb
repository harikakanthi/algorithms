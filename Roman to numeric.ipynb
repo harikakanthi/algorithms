{
 "cells": [
  {
   "cell_type": "code",
   "execution_count": 2,
   "metadata": {},
   "outputs": [
    {
     "name": "stdout",
     "output_type": "stream",
     "text": [
      "Enter a roman number:__mcmxciv\n",
      "1994\n"
     ]
    }
   ],
   "source": [
    "roman = {\"I\":1, \"V\":5, \"X\":10, \"L\":50, \"C\":100, \"D\":500, \"M\":1000}  \n",
    "x=[ roman[i] for i in input(\"Enter a roman number:__\").upper()] \n",
    "summation=0\n",
    "for i in range(len(x)):\n",
    "    try:\n",
    "        if x[i] < x[i+1] :\n",
    "            summation-=x[i]\n",
    "        else:\n",
    "            summation+=x[i]\n",
    "    except:\n",
    "        summation+= x[i] \n",
    "        \n",
    "print(summation)"
   ]
  }
 ],
 "metadata": {
  "kernelspec": {
   "display_name": "Python 3",
   "language": "python",
   "name": "python3"
  },
  "language_info": {
   "codemirror_mode": {
    "name": "ipython",
    "version": 3
   },
   "file_extension": ".py",
   "mimetype": "text/x-python",
   "name": "python",
   "nbconvert_exporter": "python",
   "pygments_lexer": "ipython3",
   "version": "3.7.6"
  }
 },
 "nbformat": 4,
 "nbformat_minor": 4
}
